{
 "cells": [
  {
   "cell_type": "code",
   "execution_count": 127,
   "metadata": {},
   "outputs": [],
   "source": [
    "import pandas as pd\n",
    "import numpy as np\n",
    "from pathlib import Path\n",
    "\n",
    "def process_annotations(annotation_path):\n",
    "    \"\"\"\n",
    "    Process sleep lab annotation CSV file into a structured DataFrame\n",
    "    \n",
    "    Parameters:\n",
    "    annotation_path : str or Path\n",
    "        \n",
    "    Returns:\n",
    "    pd.DataFrame\n",
    "    Processed DataFrame with columns: Start, Duration [ms], Event, Type, Stage\n",
    "    \"\"\"\n",
    "\n",
    "    pth_to_file = Path(annotation_path)\n",
    "    df = pd.read_csv(pth_to_file.as_posix())\n",
    "    df.drop(['Unnamed: 1', 'Unnamed: 2'], axis=1, inplace=True)\n",
    "    df.dropna(inplace=True)\n",
    "    pattern = r'Start: (.*?); Duration \\[ms\\]: (.*?); Event: (.*?); \\((.*?)\\)(?:; Stage: (.*))?'\n",
    "    df[['Start', 'Duration [ms]', 'Event', 'Type', 'Stage']] = df['Event-Exportdatei'].str.extract(pattern)\n",
    "    df.drop('Event-Exportdatei', axis=1, inplace=True)\n",
    "    df.drop_duplicates(inplace=True)\n",
    "    df = df.dropna(subset=['Duration [ms]'])\n",
    "    return df\n",
    "\n",
    "def convert_duration_to_indices(df, params):\n",
    "    \"\"\"\n",
    "    Convert duration from milliseconds to number of indices based on radar sampling rate\n",
    "    \n",
    "    Parameters:\n",
    "    df: DataFrame with 'Duration [ms]' column\n",
    "    params: Dictionary containing parameters including 'fps' key\n",
    "    \n",
    "    Returns:\n",
    "    DataFrame with new column 'Duration_indices'\n",
    "    \"\"\"\n",
    "    fps_respiration = params['fps']\n",
    "    df['Duration_indices'] = (df['Duration [ms]'].astype(float) / 1000 * fps_respiration).astype(int)\n",
    "    return df\n",
    "\n",
    "\n",
    "\n",
    "def calculate_end_times(df):\n",
    "    \"\"\"\n",
    "    Calculate end times by adding duration to start times\n",
    "    \n",
    "    Parameters:\n",
    "    df : pd.DataFrame\n",
    "        DataFrame with 'Start' column (time strings) and 'Duration [ms]' column\n",
    "        \n",
    "    Returns:\n",
    "    pd.DataFrame\n",
    "        DataFrame with new 'End' column containing end times\n",
    "    \"\"\"\n",
    "    start_times = pd.to_datetime(df['Start'], format='%H:%M:%S')\n",
    "    duration_seconds = (df['Duration [ms]'].astype(float) / 1000).round().astype(int)\n",
    "    end_times = start_times + pd.to_timedelta(duration_seconds, unit='s')\n",
    "    df['End'] = end_times.dt.strftime('%H:%M:%S')\n",
    "    return df\n",
    "\n",
    "def extract_recording_date(annotation_path):\n",
    "    \"\"\"Extract recording date from annotations CSV file.\n",
    "    Args:\n",
    "        annotation_path (str|Path): Path to annotations file\n",
    "    Returns:\n",
    "        str: Recording date (DD.MM.YYYY)\n",
    "    \"\"\"\n",
    "    df = pd.read_csv(annotation_path, nrows=50)\n",
    "    date_row_idx = df[df.iloc[:, 0] == '[Rec. date:]'].index\n",
    "    if date_row_idx.empty:\n",
    "        raise ValueError(\"Recording date not found in file\")\n",
    "    \n",
    "    date_str = df.iloc[date_row_idx[0] + 1, 0]\n",
    "    recording_date = pd.to_datetime(date_str, format='%d.%m.%Y')\n",
    "    return recording_date"
   ]
  },
  {
   "cell_type": "code",
   "execution_count": null,
   "metadata": {},
   "outputs": [],
   "source": [
    "params = {'fps': 200}  \n",
    "df = process_annotations('/Users/avitalv/Downloads/0010.csv')\n",
    "df = convert_duration_to_indices(df, params)\n",
    "df = calculate_end_times(df)\n",
    "recording_date = extract_recording_date('/Users/avitalv/Downloads/0010.csv')"
   ]
  },
  {
   "cell_type": "code",
   "execution_count": 105,
   "metadata": {},
   "outputs": [],
   "source": [
    "study = 'Sleep Lab'\n",
    "from aws_manager import S3Manager, DBManagerSystem\n",
    "import yaml\n",
    "import pandas as pd\n",
    "\n",
    "def fetch_motion_results(db_manager, session_id):\n",
    "    query = f\"SELECT * FROM MotionResult WHERE SessionID = {session_id}\"\n",
    "    return pd.read_sql(query, db_manager.engine)\n",
    "\n",
    "def fetch_study_sessions(db_manager, study):\n",
    "    query = f\"\"\"\n",
    "    SELECT Patient.PatientStudyName, Patient.EnrollmentTime,\n",
    "    Session.* FROM Session \n",
    "    JOIN Patient ON Session.PatientID = Patient.ID \n",
    "    JOIN Study ON Patient.StudyID = Study.ID \n",
    "    WHERE Study.Name = '{study}'\n",
    "    \"\"\"\n",
    "    return pd.read_sql(query, db_manager.engine)\n",
    "\n",
    "\n",
    "def load_config():\n",
    "    with open('parameters.yaml', 'r') as file:\n",
    "        config = yaml.safe_load(file)\n",
    "    return config\n",
    "\n",
    "S3_CONFIG = load_config()['Cloud']['s3']\n",
    "DB_CONFIG = load_config()['Cloud']['DB_system']\n",
    "\n",
    "s3_manager = S3Manager(\n",
    "    access_key_id=S3_CONFIG['access_key_id'],\n",
    "    secret_access_key=S3_CONFIG['secret_access_key'],\n",
    "    region=S3_CONFIG['region'],\n",
    "    bucket_name=S3_CONFIG['bucket_name']\n",
    ")\n",
    "\n",
    "db_manager = DBManagerSystem(\n",
    "    host=DB_CONFIG['host'],\n",
    "    \n",
    "    user=DB_CONFIG['user'],\n",
    "    password=DB_CONFIG['password'],\n",
    "    database=DB_CONFIG['database']\n",
    ")"
   ]
  },
  {
   "cell_type": "code",
   "execution_count": 144,
   "metadata": {},
   "outputs": [],
   "source": [
    "session_df = fetch_study_sessions(db_manager, study)\n",
    "matching_session = session_df[session_df['StartTime'].dt.date == recording_date.date()]\n",
    "session_id = matching_session['ID'].item()\n",
    "\n"
   ]
  },
  {
   "cell_type": "code",
   "execution_count": 145,
   "metadata": {},
   "outputs": [
    {
     "data": {
      "text/plain": [
       "386"
      ]
     },
     "execution_count": 145,
     "metadata": {},
     "output_type": "execute_result"
    }
   ],
   "source": [
    "session_id"
   ]
  },
  {
   "cell_type": "code",
   "execution_count": 108,
   "metadata": {},
   "outputs": [
    {
     "name": "stdout",
     "output_type": "stream",
     "text": [
      "[299, 375, 379, 380, 381, 382, 384, 385, 386, 387, 388]\n"
     ]
    }
   ],
   "source": [
    "session_ids = session_df['ID'].tolist()\n",
    "print(session_ids)"
   ]
  }
 ],
 "metadata": {
  "kernelspec": {
   "display_name": ".venv",
   "language": "python",
   "name": "python3"
  },
  "language_info": {
   "codemirror_mode": {
    "name": "ipython",
    "version": 3
   },
   "file_extension": ".py",
   "mimetype": "text/x-python",
   "name": "python",
   "nbconvert_exporter": "python",
   "pygments_lexer": "ipython3",
   "version": "3.13.2"
  }
 },
 "nbformat": 4,
 "nbformat_minor": 2
}
