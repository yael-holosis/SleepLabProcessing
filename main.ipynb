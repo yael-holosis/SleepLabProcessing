{
 "cells": [
  {
   "cell_type": "code",
   "execution_count": 6,
   "metadata": {},
   "outputs": [],
   "source": [
    "study = 'Sleep Lab'"
   ]
  },
  {
   "cell_type": "markdown",
   "metadata": {},
   "source": [
    "### DB and S3 ###"
   ]
  },
  {
   "cell_type": "code",
   "execution_count": 21,
   "metadata": {},
   "outputs": [],
   "source": [
    "from aws_manager import S3Manager, DBManagerSystem\n",
    "import yaml\n",
    "import pandas as pd\n",
    "\n",
    "def fetch_motion_results(db_manager, session_id):\n",
    "    query = f\"SELECT * FROM MotionResult WHERE SessionID = {session_id}\"\n",
    "    return pd.read_sql(query, db_manager.engine)\n",
    "\n",
    "def fetch_study_sessions(db_manager, study):\n",
    "    query = f\"\"\"\n",
    "    SELECT Patient.PatientStudyName, Patient.EnrollmentTime,\n",
    "    Session.* FROM Session \n",
    "    JOIN Patient ON Session.PatientID = Patient.ID \n",
    "    JOIN Study ON Patient.StudyID = Study.ID \n",
    "    WHERE Study.Name = '{study}'\n",
    "    \"\"\"\n",
    "    return pd.read_sql(query, db_manager.engine)\n",
    "\n",
    "\n",
    "def load_config():\n",
    "    with open('parameters.yaml', 'r') as file:\n",
    "        config = yaml.safe_load(file)\n",
    "    return config\n",
    "\n",
    "S3_CONFIG = load_config()['Cloud']['s3']\n",
    "DB_CONFIG = load_config()['Cloud']['DB_system']\n",
    "\n",
    "s3_manager = S3Manager(\n",
    "    access_key_id=S3_CONFIG['access_key_id'],\n",
    "    secret_access_key=S3_CONFIG['secret_access_key'],\n",
    "    region=S3_CONFIG['region'],\n",
    "    bucket_name=S3_CONFIG['bucket_name']\n",
    ")\n",
    "\n",
    "db_manager = DBManagerSystem(\n",
    "    host=DB_CONFIG['host'],\n",
    "    user=DB_CONFIG['user'],\n",
    "    password=DB_CONFIG['password'],\n",
    "    database=DB_CONFIG['database']\n",
    ")"
   ]
  },
  {
   "cell_type": "code",
   "execution_count": 15,
   "metadata": {},
   "outputs": [
    {
     "name": "stdout",
     "output_type": "stream",
     "text": [
      "[299, 375, 379, 380, 381, 382, 384, 385, 386]\n"
     ]
    }
   ],
   "source": [
    "import numpy as np\n",
    "session_df = fetch_study_sessions(db_manager, study)\n",
    "session_df.head()\n",
    "\n",
    "session_ids = session_df['ID'].tolist()\n",
    "print(session_ids)"
   ]
  },
  {
   "cell_type": "code",
   "execution_count": 36,
   "metadata": {},
   "outputs": [],
   "source": [
    "import os\n",
    "import os\n",
    "import pandas as pd\n",
    "import numpy as np\n",
    "from mne.io import read_raw_edf\n",
    "\n",
    "class SleepLabProcessor:\n",
    "    def __init__(self, db_manager, s3_manager):\n",
    "        self.db_manager = db_manager\n",
    "        self.s3_manager = s3_manager\n",
    "        self.local_path = 'data'\n",
    "        if not os.path.exists(self.local_path):\n",
    "            os.makedirs(self.local_path)\n",
    "\n",
    "    def process(self, session_id, num_samples):\n",
    "        self.session_id = session_id\n",
    "        self.fetch_patient_info()\n",
    "        edf_file_path = self.download_edf_file()\n",
    "        self.print_channels_and_save_chest(edf_file_path)\n",
    "        motion_results = self.fetch_motion_results()\n",
    "        self.choose_samples_and_download_signals(motion_results, num_samples)\n",
    "\n",
    "    def fetch_patient_info(self):\n",
    "        query = f\"\"\"\n",
    "        SELECT Patient.ID, Patient.PatientStudyName FROM Session \n",
    "        JOIN Patient ON Session.PatientID = Patient.ID\n",
    "        WHERE Session.ID = {self.session_id}\n",
    "        \"\"\"\n",
    "        result = pd.read_sql(query, self.db_manager.engine)\n",
    "        if not result.empty:\n",
    "            self.patient_id = result.iloc[0]['ID']\n",
    "            self.patient_name = result.iloc[0]['PatientStudyName']\n",
    "        else:\n",
    "            raise ValueError(\"Session ID not found\")\n",
    "\n",
    "    def download_edf_file(self):\n",
    "        self.patient_number = self.patient_name.replace('SL', '')\n",
    "        edf_local = f\"{self.local_path}/{self.patient_number}.edf\"\n",
    "        edf_s3 = f\"{self.s3_manager.bucket}/{self.patient_number}/{edf_local}\"\n",
    "        print(f\"edf s3 path: {edf_s3}\")\n",
    "        print(f\"edf local path: {edf_local}\")\n",
    "        local_path = os.path.join(self.local_path, edf_local)\n",
    "        self.s3_manager.download_from_s3(edf_s3, local_path)\n",
    "        return local_path\n",
    "\n",
    "    def print_channels_and_save_chest(self, file_path):\n",
    "        raw = read_raw_edf(file_path, preload=True)\n",
    "        print(\"Channels:\", raw.ch_names)\n",
    "        \n",
    "        # Assuming 'Chest' is the label for the chest channel\n",
    "        if 'Chest' in raw.ch_names:\n",
    "            chest_data = raw.get_data(picks='Chest')\n",
    "            timestamps = raw.times\n",
    "            \n",
    "            # Save chest signal with timestamps\n",
    "            chest_df = pd.DataFrame({'Timestamp': timestamps, 'Chest': chest_data[0]})\n",
    "            chest_df.to_csv('/local/path/to/save/chest_data.csv', index=False)\n",
    "        else:\n",
    "            print(\"Chest channel not found.\")\n",
    "\n",
    "    def fetch_motion_results(self):\n",
    "        query = f\"SELECT * FROM MotionResult WHERE SessionID = {self.session_id}\"\n",
    "        return pd.read_sql(query, self.db_manager.engine)\n",
    "\n",
    "    def choose_samples_and_download_signals(self, motion_results, num_samples):\n",
    "        session_start = motion_results['StartTime'].min()\n",
    "        session_end = motion_results['EndTime'].max()\n",
    "        session_duration = (session_end - session_start).total_seconds()\n",
    "        \n",
    "        sample_times = np.linspace(session_start, session_end, num_samples)\n",
    "        \n",
    "        for time in sample_times:\n",
    "            closest_signal = motion_results.iloc[(motion_results['RadarSignalID'] - time).abs().argsort()[:1]]\n",
    "            if closest_signal['MotionType'].iloc[0] == 'Mild':\n",
    "                radar_signal_id = closest_signal['RadarSignalID'].iloc[0]\n",
    "                self.download_signal(radar_signal_id)\n",
    "\n",
    "    def download_signal(self, radar_signal_id):\n",
    "        signal_filename = f\"signal_{radar_signal_id}.dat\"\n",
    "        local_path = os.path.join(\"/local/path/to/save\", signal_filename)\n",
    "        self.s3_manager.download_file(signal_filename, local_path)\n",
    "        print(f\"Downloaded signal: {signal_filename}\")"
   ]
  },
  {
   "cell_type": "code",
   "execution_count": 37,
   "metadata": {},
   "outputs": [
    {
     "name": "stdout",
     "output_type": "stream",
     "text": [
      "edf s3 path: sleep-lab/0001/0001.edf\n",
      "edf local path: 0001.edf\n"
     ]
    },
    {
     "ename": "ClientError",
     "evalue": "An error occurred (404) when calling the HeadObject operation: Not Found",
     "output_type": "error",
     "traceback": [
      "\u001b[31m---------------------------------------------------------------------------\u001b[39m",
      "\u001b[31mClientError\u001b[39m                               Traceback (most recent call last)",
      "\u001b[36mCell\u001b[39m\u001b[36m \u001b[39m\u001b[32mIn[37]\u001b[39m\u001b[32m, line 3\u001b[39m\n\u001b[32m      1\u001b[39m session_id = session_ids[\u001b[32m0\u001b[39m]\n\u001b[32m      2\u001b[39m processor = SleepLabProcessor(db_manager=db_manager, s3_manager=s3_manager)\n\u001b[32m----> \u001b[39m\u001b[32m3\u001b[39m \u001b[43mprocessor\u001b[49m\u001b[43m.\u001b[49m\u001b[43mprocess\u001b[49m\u001b[43m(\u001b[49m\u001b[43msession_id\u001b[49m\u001b[43m=\u001b[49m\u001b[43msession_id\u001b[49m\u001b[43m,\u001b[49m\u001b[43m \u001b[49m\u001b[43mnum_samples\u001b[49m\u001b[43m=\u001b[49m\u001b[32;43m10\u001b[39;49m\u001b[43m)\u001b[49m\n",
      "\u001b[36mCell\u001b[39m\u001b[36m \u001b[39m\u001b[32mIn[36]\u001b[39m\u001b[32m, line 18\u001b[39m, in \u001b[36mSleepLabProcessor.process\u001b[39m\u001b[34m(self, session_id, num_samples)\u001b[39m\n\u001b[32m     16\u001b[39m \u001b[38;5;28mself\u001b[39m.session_id = session_id\n\u001b[32m     17\u001b[39m \u001b[38;5;28mself\u001b[39m.fetch_patient_info()\n\u001b[32m---> \u001b[39m\u001b[32m18\u001b[39m edf_file_path = \u001b[38;5;28;43mself\u001b[39;49m\u001b[43m.\u001b[49m\u001b[43mdownload_edf_file\u001b[49m\u001b[43m(\u001b[49m\u001b[43m)\u001b[49m\n\u001b[32m     19\u001b[39m \u001b[38;5;28mself\u001b[39m.print_channels_and_save_chest(edf_file_path)\n\u001b[32m     20\u001b[39m motion_results = \u001b[38;5;28mself\u001b[39m.fetch_motion_results()\n",
      "\u001b[36mCell\u001b[39m\u001b[36m \u001b[39m\u001b[32mIn[36]\u001b[39m\u001b[32m, line 43\u001b[39m, in \u001b[36mSleepLabProcessor.download_edf_file\u001b[39m\u001b[34m(self)\u001b[39m\n\u001b[32m     41\u001b[39m \u001b[38;5;28mprint\u001b[39m(\u001b[33mf\u001b[39m\u001b[33m\"\u001b[39m\u001b[33medf local path: \u001b[39m\u001b[38;5;132;01m{\u001b[39;00medf_local\u001b[38;5;132;01m}\u001b[39;00m\u001b[33m\"\u001b[39m)\n\u001b[32m     42\u001b[39m local_path = os.path.join(\u001b[38;5;28mself\u001b[39m.local_path, edf_local)\n\u001b[32m---> \u001b[39m\u001b[32m43\u001b[39m \u001b[38;5;28;43mself\u001b[39;49m\u001b[43m.\u001b[49m\u001b[43ms3_manager\u001b[49m\u001b[43m.\u001b[49m\u001b[43mdownload_from_s3\u001b[49m\u001b[43m(\u001b[49m\u001b[43medf_s3\u001b[49m\u001b[43m,\u001b[49m\u001b[43m \u001b[49m\u001b[43mlocal_path\u001b[49m\u001b[43m)\u001b[49m\n\u001b[32m     44\u001b[39m \u001b[38;5;28;01mreturn\u001b[39;00m local_path\n",
      "\u001b[36mFile \u001b[39m\u001b[32m~/Library/Caches/pypoetry/virtualenvs/sleeplabprocessing-bAcChQS--py3.12/lib/python3.12/site-packages/aws_manager.py:957\u001b[39m, in \u001b[36mS3Manager.download_from_s3\u001b[39m\u001b[34m(self, s3_path, local_path, prefixes)\u001b[39m\n\u001b[32m    955\u001b[39m os.makedirs(os.path.dirname(local_path), exist_ok=\u001b[38;5;28;01mTrue\u001b[39;00m)\n\u001b[32m    956\u001b[39m \u001b[38;5;28;01mif\u001b[39;00m \u001b[38;5;129;01mnot\u001b[39;00m os.path.exists(local_path):\n\u001b[32m--> \u001b[39m\u001b[32m957\u001b[39m     \u001b[38;5;28;43mself\u001b[39;49m\u001b[43m.\u001b[49m\u001b[43ms3_client\u001b[49m\u001b[43m.\u001b[49m\u001b[43mdownload_file\u001b[49m\u001b[43m(\u001b[49m\u001b[43mbucket_name\u001b[49m\u001b[43m,\u001b[49m\u001b[43m \u001b[49m\u001b[43mkey_path\u001b[49m\u001b[43m,\u001b[49m\u001b[43m \u001b[49m\u001b[43mlocal_path\u001b[49m\u001b[43m)\u001b[49m\n",
      "\u001b[36mFile \u001b[39m\u001b[32m~/Library/Caches/pypoetry/virtualenvs/sleeplabprocessing-bAcChQS--py3.12/lib/python3.12/site-packages/botocore/context.py:124\u001b[39m, in \u001b[36mwith_current_context.<locals>.decorator.<locals>.wrapper\u001b[39m\u001b[34m(*args, **kwargs)\u001b[39m\n\u001b[32m    122\u001b[39m \u001b[38;5;28;01mif\u001b[39;00m hook:\n\u001b[32m    123\u001b[39m     hook()\n\u001b[32m--> \u001b[39m\u001b[32m124\u001b[39m \u001b[38;5;28;01mreturn\u001b[39;00m \u001b[43mfunc\u001b[49m\u001b[43m(\u001b[49m\u001b[43m*\u001b[49m\u001b[43margs\u001b[49m\u001b[43m,\u001b[49m\u001b[43m \u001b[49m\u001b[43m*\u001b[49m\u001b[43m*\u001b[49m\u001b[43mkwargs\u001b[49m\u001b[43m)\u001b[49m\n",
      "\u001b[36mFile \u001b[39m\u001b[32m~/Library/Caches/pypoetry/virtualenvs/sleeplabprocessing-bAcChQS--py3.12/lib/python3.12/site-packages/boto3/s3/inject.py:218\u001b[39m, in \u001b[36mdownload_file\u001b[39m\u001b[34m(self, Bucket, Key, Filename, ExtraArgs, Callback, Config)\u001b[39m\n\u001b[32m    183\u001b[39m \u001b[38;5;250m\u001b[39m\u001b[33;03m\"\"\"Download an S3 object to a file.\u001b[39;00m\n\u001b[32m    184\u001b[39m \n\u001b[32m    185\u001b[39m \u001b[33;03mUsage::\u001b[39;00m\n\u001b[32m   (...)\u001b[39m\u001b[32m    215\u001b[39m \u001b[33;03m    transfer.\u001b[39;00m\n\u001b[32m    216\u001b[39m \u001b[33;03m\"\"\"\u001b[39;00m\n\u001b[32m    217\u001b[39m \u001b[38;5;28;01mwith\u001b[39;00m S3Transfer(\u001b[38;5;28mself\u001b[39m, Config) \u001b[38;5;28;01mas\u001b[39;00m transfer:\n\u001b[32m--> \u001b[39m\u001b[32m218\u001b[39m     \u001b[38;5;28;01mreturn\u001b[39;00m \u001b[43mtransfer\u001b[49m\u001b[43m.\u001b[49m\u001b[43mdownload_file\u001b[49m\u001b[43m(\u001b[49m\n\u001b[32m    219\u001b[39m \u001b[43m        \u001b[49m\u001b[43mbucket\u001b[49m\u001b[43m=\u001b[49m\u001b[43mBucket\u001b[49m\u001b[43m,\u001b[49m\n\u001b[32m    220\u001b[39m \u001b[43m        \u001b[49m\u001b[43mkey\u001b[49m\u001b[43m=\u001b[49m\u001b[43mKey\u001b[49m\u001b[43m,\u001b[49m\n\u001b[32m    221\u001b[39m \u001b[43m        \u001b[49m\u001b[43mfilename\u001b[49m\u001b[43m=\u001b[49m\u001b[43mFilename\u001b[49m\u001b[43m,\u001b[49m\n\u001b[32m    222\u001b[39m \u001b[43m        \u001b[49m\u001b[43mextra_args\u001b[49m\u001b[43m=\u001b[49m\u001b[43mExtraArgs\u001b[49m\u001b[43m,\u001b[49m\n\u001b[32m    223\u001b[39m \u001b[43m        \u001b[49m\u001b[43mcallback\u001b[49m\u001b[43m=\u001b[49m\u001b[43mCallback\u001b[49m\u001b[43m,\u001b[49m\n\u001b[32m    224\u001b[39m \u001b[43m    \u001b[49m\u001b[43m)\u001b[49m\n",
      "\u001b[36mFile \u001b[39m\u001b[32m~/Library/Caches/pypoetry/virtualenvs/sleeplabprocessing-bAcChQS--py3.12/lib/python3.12/site-packages/boto3/s3/transfer.py:406\u001b[39m, in \u001b[36mS3Transfer.download_file\u001b[39m\u001b[34m(self, bucket, key, filename, extra_args, callback)\u001b[39m\n\u001b[32m    402\u001b[39m future = \u001b[38;5;28mself\u001b[39m._manager.download(\n\u001b[32m    403\u001b[39m     bucket, key, filename, extra_args, subscribers\n\u001b[32m    404\u001b[39m )\n\u001b[32m    405\u001b[39m \u001b[38;5;28;01mtry\u001b[39;00m:\n\u001b[32m--> \u001b[39m\u001b[32m406\u001b[39m     \u001b[43mfuture\u001b[49m\u001b[43m.\u001b[49m\u001b[43mresult\u001b[49m\u001b[43m(\u001b[49m\u001b[43m)\u001b[49m\n\u001b[32m    407\u001b[39m \u001b[38;5;66;03m# This is for backwards compatibility where when retries are\u001b[39;00m\n\u001b[32m    408\u001b[39m \u001b[38;5;66;03m# exceeded we need to throw the same error from boto3 instead of\u001b[39;00m\n\u001b[32m    409\u001b[39m \u001b[38;5;66;03m# s3transfer's built in RetriesExceededError as current users are\u001b[39;00m\n\u001b[32m    410\u001b[39m \u001b[38;5;66;03m# catching the boto3 one instead of the s3transfer exception to do\u001b[39;00m\n\u001b[32m    411\u001b[39m \u001b[38;5;66;03m# their own retries.\u001b[39;00m\n\u001b[32m    412\u001b[39m \u001b[38;5;28;01mexcept\u001b[39;00m S3TransferRetriesExceededError \u001b[38;5;28;01mas\u001b[39;00m e:\n",
      "\u001b[36mFile \u001b[39m\u001b[32m~/Library/Caches/pypoetry/virtualenvs/sleeplabprocessing-bAcChQS--py3.12/lib/python3.12/site-packages/s3transfer/futures.py:111\u001b[39m, in \u001b[36mTransferFuture.result\u001b[39m\u001b[34m(self)\u001b[39m\n\u001b[32m    106\u001b[39m \u001b[38;5;28;01mdef\u001b[39;00m\u001b[38;5;250m \u001b[39m\u001b[34mresult\u001b[39m(\u001b[38;5;28mself\u001b[39m):\n\u001b[32m    107\u001b[39m     \u001b[38;5;28;01mtry\u001b[39;00m:\n\u001b[32m    108\u001b[39m         \u001b[38;5;66;03m# Usually the result() method blocks until the transfer is done,\u001b[39;00m\n\u001b[32m    109\u001b[39m         \u001b[38;5;66;03m# however if a KeyboardInterrupt is raised we want want to exit\u001b[39;00m\n\u001b[32m    110\u001b[39m         \u001b[38;5;66;03m# out of this and propagate the exception.\u001b[39;00m\n\u001b[32m--> \u001b[39m\u001b[32m111\u001b[39m         \u001b[38;5;28;01mreturn\u001b[39;00m \u001b[38;5;28;43mself\u001b[39;49m\u001b[43m.\u001b[49m\u001b[43m_coordinator\u001b[49m\u001b[43m.\u001b[49m\u001b[43mresult\u001b[49m\u001b[43m(\u001b[49m\u001b[43m)\u001b[49m\n\u001b[32m    112\u001b[39m     \u001b[38;5;28;01mexcept\u001b[39;00m \u001b[38;5;167;01mKeyboardInterrupt\u001b[39;00m \u001b[38;5;28;01mas\u001b[39;00m e:\n\u001b[32m    113\u001b[39m         \u001b[38;5;28mself\u001b[39m.cancel()\n",
      "\u001b[36mFile \u001b[39m\u001b[32m~/Library/Caches/pypoetry/virtualenvs/sleeplabprocessing-bAcChQS--py3.12/lib/python3.12/site-packages/s3transfer/futures.py:272\u001b[39m, in \u001b[36mTransferCoordinator.result\u001b[39m\u001b[34m(self)\u001b[39m\n\u001b[32m    269\u001b[39m \u001b[38;5;66;03m# Once done waiting, raise an exception if present or return the\u001b[39;00m\n\u001b[32m    270\u001b[39m \u001b[38;5;66;03m# final result.\u001b[39;00m\n\u001b[32m    271\u001b[39m \u001b[38;5;28;01mif\u001b[39;00m \u001b[38;5;28mself\u001b[39m._exception:\n\u001b[32m--> \u001b[39m\u001b[32m272\u001b[39m     \u001b[38;5;28;01mraise\u001b[39;00m \u001b[38;5;28mself\u001b[39m._exception\n\u001b[32m    273\u001b[39m \u001b[38;5;28;01mreturn\u001b[39;00m \u001b[38;5;28mself\u001b[39m._result\n",
      "\u001b[36mFile \u001b[39m\u001b[32m~/Library/Caches/pypoetry/virtualenvs/sleeplabprocessing-bAcChQS--py3.12/lib/python3.12/site-packages/s3transfer/tasks.py:272\u001b[39m, in \u001b[36mSubmissionTask._main\u001b[39m\u001b[34m(self, transfer_future, **kwargs)\u001b[39m\n\u001b[32m    268\u001b[39m     \u001b[38;5;28mself\u001b[39m._transfer_coordinator.set_status_to_running()\n\u001b[32m    270\u001b[39m     \u001b[38;5;66;03m# Call the submit method to start submitting tasks to execute the\u001b[39;00m\n\u001b[32m    271\u001b[39m     \u001b[38;5;66;03m# transfer.\u001b[39;00m\n\u001b[32m--> \u001b[39m\u001b[32m272\u001b[39m     \u001b[38;5;28;43mself\u001b[39;49m\u001b[43m.\u001b[49m\u001b[43m_submit\u001b[49m\u001b[43m(\u001b[49m\u001b[43mtransfer_future\u001b[49m\u001b[43m=\u001b[49m\u001b[43mtransfer_future\u001b[49m\u001b[43m,\u001b[49m\u001b[43m \u001b[49m\u001b[43m*\u001b[49m\u001b[43m*\u001b[49m\u001b[43mkwargs\u001b[49m\u001b[43m)\u001b[49m\n\u001b[32m    273\u001b[39m \u001b[38;5;28;01mexcept\u001b[39;00m \u001b[38;5;167;01mBaseException\u001b[39;00m \u001b[38;5;28;01mas\u001b[39;00m e:\n\u001b[32m    274\u001b[39m     \u001b[38;5;66;03m# If there was an exception raised during the submission of task\u001b[39;00m\n\u001b[32m    275\u001b[39m     \u001b[38;5;66;03m# there is a chance that the final task that signals if a transfer\u001b[39;00m\n\u001b[32m   (...)\u001b[39m\u001b[32m    284\u001b[39m \n\u001b[32m    285\u001b[39m     \u001b[38;5;66;03m# Set the exception, that caused the process to fail.\u001b[39;00m\n\u001b[32m    286\u001b[39m     \u001b[38;5;28mself\u001b[39m._log_and_set_exception(e)\n",
      "\u001b[36mFile \u001b[39m\u001b[32m~/Library/Caches/pypoetry/virtualenvs/sleeplabprocessing-bAcChQS--py3.12/lib/python3.12/site-packages/s3transfer/download.py:352\u001b[39m, in \u001b[36mDownloadSubmissionTask._submit\u001b[39m\u001b[34m(self, client, config, osutil, request_executor, io_executor, transfer_future, bandwidth_limiter)\u001b[39m\n\u001b[32m    323\u001b[39m \u001b[38;5;250m\u001b[39m\u001b[33;03m\"\"\"\u001b[39;00m\n\u001b[32m    324\u001b[39m \u001b[33;03m:param client: The client associated with the transfer manager\u001b[39;00m\n\u001b[32m    325\u001b[39m \n\u001b[32m   (...)\u001b[39m\u001b[32m    347\u001b[39m \u001b[33;03m    downloading streams\u001b[39;00m\n\u001b[32m    348\u001b[39m \u001b[33;03m\"\"\"\u001b[39;00m\n\u001b[32m    349\u001b[39m \u001b[38;5;28;01mif\u001b[39;00m transfer_future.meta.size \u001b[38;5;129;01mis\u001b[39;00m \u001b[38;5;28;01mNone\u001b[39;00m:\n\u001b[32m    350\u001b[39m     \u001b[38;5;66;03m# If a size was not provided figure out the size for the\u001b[39;00m\n\u001b[32m    351\u001b[39m     \u001b[38;5;66;03m# user.\u001b[39;00m\n\u001b[32m--> \u001b[39m\u001b[32m352\u001b[39m     response = \u001b[43mclient\u001b[49m\u001b[43m.\u001b[49m\u001b[43mhead_object\u001b[49m\u001b[43m(\u001b[49m\n\u001b[32m    353\u001b[39m \u001b[43m        \u001b[49m\u001b[43mBucket\u001b[49m\u001b[43m=\u001b[49m\u001b[43mtransfer_future\u001b[49m\u001b[43m.\u001b[49m\u001b[43mmeta\u001b[49m\u001b[43m.\u001b[49m\u001b[43mcall_args\u001b[49m\u001b[43m.\u001b[49m\u001b[43mbucket\u001b[49m\u001b[43m,\u001b[49m\n\u001b[32m    354\u001b[39m \u001b[43m        \u001b[49m\u001b[43mKey\u001b[49m\u001b[43m=\u001b[49m\u001b[43mtransfer_future\u001b[49m\u001b[43m.\u001b[49m\u001b[43mmeta\u001b[49m\u001b[43m.\u001b[49m\u001b[43mcall_args\u001b[49m\u001b[43m.\u001b[49m\u001b[43mkey\u001b[49m\u001b[43m,\u001b[49m\n\u001b[32m    355\u001b[39m \u001b[43m        \u001b[49m\u001b[43m*\u001b[49m\u001b[43m*\u001b[49m\u001b[43mtransfer_future\u001b[49m\u001b[43m.\u001b[49m\u001b[43mmeta\u001b[49m\u001b[43m.\u001b[49m\u001b[43mcall_args\u001b[49m\u001b[43m.\u001b[49m\u001b[43mextra_args\u001b[49m\u001b[43m,\u001b[49m\n\u001b[32m    356\u001b[39m \u001b[43m    \u001b[49m\u001b[43m)\u001b[49m\n\u001b[32m    357\u001b[39m     transfer_future.meta.provide_transfer_size(\n\u001b[32m    358\u001b[39m         response[\u001b[33m'\u001b[39m\u001b[33mContentLength\u001b[39m\u001b[33m'\u001b[39m]\n\u001b[32m    359\u001b[39m     )\n\u001b[32m    361\u001b[39m download_output_manager = \u001b[38;5;28mself\u001b[39m._get_download_output_manager_cls(\n\u001b[32m    362\u001b[39m     transfer_future, osutil\n\u001b[32m    363\u001b[39m )(osutil, \u001b[38;5;28mself\u001b[39m._transfer_coordinator, io_executor)\n",
      "\u001b[36mFile \u001b[39m\u001b[32m~/Library/Caches/pypoetry/virtualenvs/sleeplabprocessing-bAcChQS--py3.12/lib/python3.12/site-packages/botocore/client.py:570\u001b[39m, in \u001b[36mClientCreator._create_api_method.<locals>._api_call\u001b[39m\u001b[34m(self, *args, **kwargs)\u001b[39m\n\u001b[32m    566\u001b[39m     \u001b[38;5;28;01mraise\u001b[39;00m \u001b[38;5;167;01mTypeError\u001b[39;00m(\n\u001b[32m    567\u001b[39m         \u001b[33mf\u001b[39m\u001b[33m\"\u001b[39m\u001b[38;5;132;01m{\u001b[39;00mpy_operation_name\u001b[38;5;132;01m}\u001b[39;00m\u001b[33m() only accepts keyword arguments.\u001b[39m\u001b[33m\"\u001b[39m\n\u001b[32m    568\u001b[39m     )\n\u001b[32m    569\u001b[39m \u001b[38;5;66;03m# The \"self\" in this scope is referring to the BaseClient.\u001b[39;00m\n\u001b[32m--> \u001b[39m\u001b[32m570\u001b[39m \u001b[38;5;28;01mreturn\u001b[39;00m \u001b[38;5;28;43mself\u001b[39;49m\u001b[43m.\u001b[49m\u001b[43m_make_api_call\u001b[49m\u001b[43m(\u001b[49m\u001b[43moperation_name\u001b[49m\u001b[43m,\u001b[49m\u001b[43m \u001b[49m\u001b[43mkwargs\u001b[49m\u001b[43m)\u001b[49m\n",
      "\u001b[36mFile \u001b[39m\u001b[32m~/Library/Caches/pypoetry/virtualenvs/sleeplabprocessing-bAcChQS--py3.12/lib/python3.12/site-packages/botocore/context.py:124\u001b[39m, in \u001b[36mwith_current_context.<locals>.decorator.<locals>.wrapper\u001b[39m\u001b[34m(*args, **kwargs)\u001b[39m\n\u001b[32m    122\u001b[39m \u001b[38;5;28;01mif\u001b[39;00m hook:\n\u001b[32m    123\u001b[39m     hook()\n\u001b[32m--> \u001b[39m\u001b[32m124\u001b[39m \u001b[38;5;28;01mreturn\u001b[39;00m \u001b[43mfunc\u001b[49m\u001b[43m(\u001b[49m\u001b[43m*\u001b[49m\u001b[43margs\u001b[49m\u001b[43m,\u001b[49m\u001b[43m \u001b[49m\u001b[43m*\u001b[49m\u001b[43m*\u001b[49m\u001b[43mkwargs\u001b[49m\u001b[43m)\u001b[49m\n",
      "\u001b[36mFile \u001b[39m\u001b[32m~/Library/Caches/pypoetry/virtualenvs/sleeplabprocessing-bAcChQS--py3.12/lib/python3.12/site-packages/botocore/client.py:1031\u001b[39m, in \u001b[36mBaseClient._make_api_call\u001b[39m\u001b[34m(self, operation_name, api_params)\u001b[39m\n\u001b[32m   1027\u001b[39m     error_code = error_info.get(\u001b[33m\"\u001b[39m\u001b[33mQueryErrorCode\u001b[39m\u001b[33m\"\u001b[39m) \u001b[38;5;129;01mor\u001b[39;00m error_info.get(\n\u001b[32m   1028\u001b[39m         \u001b[33m\"\u001b[39m\u001b[33mCode\u001b[39m\u001b[33m\"\u001b[39m\n\u001b[32m   1029\u001b[39m     )\n\u001b[32m   1030\u001b[39m     error_class = \u001b[38;5;28mself\u001b[39m.exceptions.from_code(error_code)\n\u001b[32m-> \u001b[39m\u001b[32m1031\u001b[39m     \u001b[38;5;28;01mraise\u001b[39;00m error_class(parsed_response, operation_name)\n\u001b[32m   1032\u001b[39m \u001b[38;5;28;01melse\u001b[39;00m:\n\u001b[32m   1033\u001b[39m     \u001b[38;5;28;01mreturn\u001b[39;00m parsed_response\n",
      "\u001b[31mClientError\u001b[39m: An error occurred (404) when calling the HeadObject operation: Not Found"
     ]
    }
   ],
   "source": [
    "session_id = session_ids[0]\n",
    "processor = SleepLabProcessor(db_manager=db_manager, s3_manager=s3_manager)\n",
    "processor.process(session_id=session_id, num_samples=10)"
   ]
  },
  {
   "cell_type": "code",
   "execution_count": null,
   "metadata": {},
   "outputs": [],
   "source": [
    "sig_pp = sig - np.mean(sig, axis=0)\n",
    "max_ind = np.argmax(np.std(sig_pp, axis=0))\n",
    "resp_signal = sig_pp[:, max_ind]"
   ]
  }
 ],
 "metadata": {
  "kernelspec": {
   "display_name": "sleeplabprocessing-bAcChQS--py3.12",
   "language": "python",
   "name": "python3"
  },
  "language_info": {
   "codemirror_mode": {
    "name": "ipython",
    "version": 3
   },
   "file_extension": ".py",
   "mimetype": "text/x-python",
   "name": "python",
   "nbconvert_exporter": "python",
   "pygments_lexer": "ipython3",
   "version": "3.12.8"
  }
 },
 "nbformat": 4,
 "nbformat_minor": 2
}
